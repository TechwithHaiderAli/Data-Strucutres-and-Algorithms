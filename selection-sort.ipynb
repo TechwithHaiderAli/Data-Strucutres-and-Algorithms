{
 "cells": [
  {
   "cell_type": "markdown",
   "metadata": {},
   "source": [
    "### SELECTION SORT"
   ]
  },
  {
   "cell_type": "code",
   "execution_count": 11,
   "metadata": {},
   "outputs": [],
   "source": [
    "def selection_sort(l):\n",
    "\n",
    "    n=len(l)\n",
    "# for each elemment in the list(starting from left)\n",
    "    for i in range(n):\n",
    "        min_idx=i #Find the minimum\n",
    "\n",
    "        for j in range(i+1,n):\n",
    "\n",
    "            if l[j] <l [min_idx]:\n",
    "                min_idx=j\n",
    "        #swap the minimum with current element,\n",
    "        # now we have sorted stuff till i        \n",
    "        l[i],l[min_idx]=l[min_idx],l[i]    "
   ]
  },
  {
   "cell_type": "code",
   "execution_count": 12,
   "metadata": {},
   "outputs": [
    {
     "name": "stdout",
     "output_type": "stream",
     "text": [
      "[1, 2, 4, 1, 2, 5, 56, 1, 11, 150]\n",
      "[1, 1, 1, 2, 2, 4, 5, 11, 56, 150]\n"
     ]
    }
   ],
   "source": [
    "l=[1,2,4,1,2,5,56,1,11,150]\n",
    "print(l)\n",
    "selection_sort(l)\n",
    "print(l)"
   ]
  }
 ],
 "metadata": {
  "kernelspec": {
   "display_name": "tf",
   "language": "python",
   "name": "python3"
  },
  "language_info": {
   "codemirror_mode": {
    "name": "ipython",
    "version": 3
   },
   "file_extension": ".py",
   "mimetype": "text/x-python",
   "name": "python",
   "nbconvert_exporter": "python",
   "pygments_lexer": "ipython3",
   "version": "3.12.4"
  }
 },
 "nbformat": 4,
 "nbformat_minor": 2
}
