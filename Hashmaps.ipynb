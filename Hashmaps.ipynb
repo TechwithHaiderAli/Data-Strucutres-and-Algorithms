{
 "cells": [
  {
   "cell_type": "code",
   "execution_count": 21,
   "metadata": {},
   "outputs": [],
   "source": [
    "class Hashmap:\n",
    "    def __init__(self):\n",
    "        self.size=10\n",
    "        self.map=[None] * self.size\n",
    "\n",
    "    def _get_hash(self,key):\n",
    "        return  key % self.size   \n",
    "\n",
    "    def add(self,key,value):\n",
    "        key_hash=self._get_hash(key)\n",
    "        key_value=[key,value]\n",
    "        if self.map[key_hash] is None:\n",
    "            self.map[key_hash]=[    key_value   ]  ##notice the double list.....\n",
    "            return True\n",
    "        else:\n",
    "            #check if it is an update\n",
    "\n",
    "            for pair in self.map[key_hash]:\n",
    "                if pair[0]==key:\n",
    "                    print(\"Updating : \",key)\n",
    "                    pair[1]=value\n",
    "                    return True\n",
    "            #nope it is a collision: insert it\n",
    "            self.map[key_hash].append(key_value)\n",
    "    \n",
    "    def get(self,key):\n",
    "        key_hash=self._get_hash(key)\n",
    "        if self.map[key_hash] is not None:\n",
    "            for pair in self.map[key_hash]:\n",
    "                if pair[0]==key:\n",
    "                    return pair[1]\n",
    "        raise KeyError(str(key))       \n",
    "    def __str__(self):\n",
    "        ret=\"\" \n",
    "\n",
    "        for i,item in enumerate(self.map):\n",
    "            if item is not None:\n",
    "                ret+=str(i)+\":\"+str(item) +'\\n'\n",
    "        return ret      \n",
    "    def delete(self,key):\n",
    "        key_hash=self._get_hash(key)\n",
    "\n",
    "        if self.map[key_hash] is None:\n",
    "            raise KeyError(str(key))\n",
    "        \n",
    "        for i in range(0,len(self.map[key_hash])):\n",
    "            if self.map[key_hash][i][0]==key:\n",
    "               self.map[key_hash].pop(i)\n",
    "               return True \n",
    "\n"
   ]
  },
  {
   "cell_type": "code",
   "execution_count": 22,
   "metadata": {},
   "outputs": [
    {
     "name": "stdout",
     "output_type": "stream",
     "text": [
      "Updating :  26\n"
     ]
    },
    {
     "data": {
      "text/plain": [
       "True"
      ]
     },
     "execution_count": 22,
     "metadata": {},
     "output_type": "execute_result"
    }
   ],
   "source": [
    "h=Hashmap()\n",
    "h.add(17,\"seventeen\")\n",
    "h.add(26,\"twenty six\")\n",
    "h.add(35,\"thirty five\")\n",
    "h.add(25,\"twenty five\")\n",
    "h.add(26,\"twenty six updated\")"
   ]
  },
  {
   "cell_type": "code",
   "execution_count": 23,
   "metadata": {},
   "outputs": [
    {
     "name": "stdout",
     "output_type": "stream",
     "text": [
      "5:[[35, 'thirty five'], [25, 'twenty five']]\n",
      "6:[[26, 'twenty six updated']]\n",
      "7:[[17, 'seventeen']]\n",
      "\n"
     ]
    }
   ],
   "source": [
    "print(h)"
   ]
  },
  {
   "cell_type": "code",
   "execution_count": 24,
   "metadata": {},
   "outputs": [
    {
     "name": "stdout",
     "output_type": "stream",
     "text": [
      "twenty six updated\n"
     ]
    }
   ],
   "source": [
    "print(h.get(26))"
   ]
  },
  {
   "cell_type": "code",
   "execution_count": 25,
   "metadata": {},
   "outputs": [
    {
     "data": {
      "text/plain": [
       "True"
      ]
     },
     "execution_count": 25,
     "metadata": {},
     "output_type": "execute_result"
    }
   ],
   "source": [
    "h.delete(25)"
   ]
  },
  {
   "cell_type": "code",
   "execution_count": 26,
   "metadata": {},
   "outputs": [
    {
     "name": "stdout",
     "output_type": "stream",
     "text": [
      "5:[[35, 'thirty five']]\n",
      "6:[[26, 'twenty six updated']]\n",
      "7:[[17, 'seventeen']]\n",
      "\n"
     ]
    }
   ],
   "source": [
    "print(h)"
   ]
  },
  {
   "cell_type": "code",
   "execution_count": 27,
   "metadata": {},
   "outputs": [
    {
     "data": {
      "text/plain": [
       "True"
      ]
     },
     "execution_count": 27,
     "metadata": {},
     "output_type": "execute_result"
    }
   ],
   "source": [
    "h.delete(17)"
   ]
  },
  {
   "cell_type": "code",
   "execution_count": 28,
   "metadata": {},
   "outputs": [
    {
     "name": "stdout",
     "output_type": "stream",
     "text": [
      "5:[[35, 'thirty five']]\n",
      "6:[[26, 'twenty six updated']]\n",
      "7:[]\n",
      "\n"
     ]
    }
   ],
   "source": [
    "print(h)"
   ]
  }
 ],
 "metadata": {
  "kernelspec": {
   "display_name": "tf",
   "language": "python",
   "name": "python3"
  },
  "language_info": {
   "codemirror_mode": {
    "name": "ipython",
    "version": 3
   },
   "file_extension": ".py",
   "mimetype": "text/x-python",
   "name": "python",
   "nbconvert_exporter": "python",
   "pygments_lexer": "ipython3",
   "version": "3.12.4"
  }
 },
 "nbformat": 4,
 "nbformat_minor": 2
}
