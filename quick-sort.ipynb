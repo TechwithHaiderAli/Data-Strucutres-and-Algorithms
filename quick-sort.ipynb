{
 "cells": [
  {
   "cell_type": "markdown",
   "metadata": {},
   "source": [
    "### Quick Sort Algortithm"
   ]
  },
  {
   "cell_type": "code",
   "execution_count": 20,
   "metadata": {},
   "outputs": [],
   "source": [
    "import random \n",
    "\n",
    "def qsort(l,fst,lst):\n",
    "    if fst>=lst:return\n",
    "\n",
    "    i,j=fst,lst\n",
    "    pivot=l[random.randint(fst,lst)]\n",
    "    \n",
    "\n",
    "    while i<j:\n",
    "        while l[i] <pivot: i+=1\n",
    "        while l[j] >pivot:j-=1\n",
    "        if i<=j:\n",
    "            l[i],l[j]=l[j],l[i]\n",
    "            i,j=i+1,j-1\n",
    "\n",
    "    qsort(l,fst,j)\n",
    "    qsort(l,i,lst)\n",
    "    \n"
   ]
  },
  {
   "cell_type": "code",
   "execution_count": 21,
   "metadata": {},
   "outputs": [
    {
     "name": "stdout",
     "output_type": "stream",
     "text": [
      "[1, 1, 1, 2, 2, 4, 5, 5, 6, 15, 110]\n"
     ]
    }
   ],
   "source": [
    "l=[1,2,4,1,2,5,5,6,1,110,15]\n",
    "qsort(l,0,len(l)-1)\n",
    "print(l)"
   ]
  }
 ],
 "metadata": {
  "kernelspec": {
   "display_name": "tf",
   "language": "python",
   "name": "python3"
  },
  "language_info": {
   "codemirror_mode": {
    "name": "ipython",
    "version": 3
   },
   "file_extension": ".py",
   "mimetype": "text/x-python",
   "name": "python",
   "nbconvert_exporter": "python",
   "pygments_lexer": "ipython3",
   "version": "3.12.4"
  }
 },
 "nbformat": 4,
 "nbformat_minor": 2
}
