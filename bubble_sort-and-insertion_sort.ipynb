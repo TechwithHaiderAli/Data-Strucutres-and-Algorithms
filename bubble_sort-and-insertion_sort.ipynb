{
 "cells": [
  {
   "cell_type": "markdown",
   "metadata": {},
   "source": [
    "### BUBBLE SORT IMPLEMENTATION IN PYTHON"
   ]
  },
  {
   "cell_type": "code",
   "execution_count": 1,
   "metadata": {},
   "outputs": [],
   "source": [
    "def bubble_sort(l):\n",
    "    n=len(l)\n",
    "    \n",
    "### Outer Loop goes the whole thing n times.\n",
    "#(becauise each time , one highest will have moved to the end)\n",
    "\n",
    "    for i in range(n):\n",
    "        swapped=False\n",
    "        #try to bubble highes one up\n",
    "        for j in range(0,(n-i)-1):\n",
    "\n",
    "            # Compare pairs move higher one up\n",
    "\n",
    "          if l[j]>l[j+1]:  \n",
    "             l[j],l[j+1]=l[j+1],l[j]\n",
    "             swapped=True\n",
    "        if not swapped:\n",
    "             break"
   ]
  },
  {
   "cell_type": "code",
   "execution_count": 2,
   "metadata": {},
   "outputs": [
    {
     "name": "stdout",
     "output_type": "stream",
     "text": [
      "[1, 2, 4, 1, 2, 55, 67, 110, 34, 50]\n",
      "[1, 1, 2, 2, 4, 34, 50, 55, 67, 110]\n"
     ]
    }
   ],
   "source": [
    "l=[1,2,4,1,2,55,67,110,34,50]\n",
    "print(l)\n",
    "bubble_sort(l)\n",
    "print(l)"
   ]
  },
  {
   "cell_type": "markdown",
   "metadata": {},
   "source": [
    "### INSERTION SORT"
   ]
  },
  {
   "cell_type": "code",
   "execution_count": 4,
   "metadata": {},
   "outputs": [],
   "source": [
    "def insertion_sort(l):\n",
    "\n",
    "    # Go through all elements except first \n",
    "    # call it key\n",
    "    # Each time the key would be \"inserted\" in its place\n",
    "    # At each iteration,stuff less than i would be sorted already\n",
    "\n",
    "    for i in range(1,len(l)):\n",
    "\n",
    "        key=l[i]\n",
    "\n",
    "        j=i-1\n",
    "\n",
    "        while j>=0 and key<l[j]:\n",
    "            l[j+1]=l[j] #move this to right.Slot left on j.\n",
    "            j-=1\n",
    "        l[j+1]=key ## Place key in free slot"
   ]
  },
  {
   "cell_type": "code",
   "execution_count": 5,
   "metadata": {},
   "outputs": [
    {
     "name": "stdout",
     "output_type": "stream",
     "text": [
      "[1, 1, 1, 2, 2, 4, 5, 6, 15, 110]\n"
     ]
    }
   ],
   "source": [
    "l=[1,2,4,1,2,5,6,1,110,15]\n",
    "insertion_sort(l)\n",
    "print(l)"
   ]
  }
 ],
 "metadata": {
  "kernelspec": {
   "display_name": "tf",
   "language": "python",
   "name": "python3"
  },
  "language_info": {
   "codemirror_mode": {
    "name": "ipython",
    "version": 3
   },
   "file_extension": ".py",
   "mimetype": "text/x-python",
   "name": "python",
   "nbconvert_exporter": "python",
   "pygments_lexer": "ipython3",
   "version": "3.12.4"
  }
 },
 "nbformat": 4,
 "nbformat_minor": 2
}
