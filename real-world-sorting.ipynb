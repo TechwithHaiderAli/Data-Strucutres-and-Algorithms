{
 "cells": [
  {
   "cell_type": "markdown",
   "metadata": {},
   "source": [
    "### Sorting in the Real World"
   ]
  },
  {
   "cell_type": "markdown",
   "metadata": {},
   "source": [
    "### Descending Sorts"
   ]
  },
  {
   "cell_type": "code",
   "execution_count": 2,
   "metadata": {},
   "outputs": [],
   "source": [
    "def selection_sort(l):\n",
    "    n=len(l)\n",
    "    # for each element in the list (starting form left)\n",
    "    for i in range(n):\n",
    "\n",
    "        idx=i # find the replacement\n",
    "        #... in the rest of the list\n",
    "        for j in range(i+1,n):\n",
    "\n",
    "\n",
    "            if l[j] > l[idx]:\n",
    "                idx=j\n",
    "    #swap the replacement with current element,now we have sorted stuff till i\n",
    "        l[i],l[idx]=l[idx],l[i]        "
   ]
  },
  {
   "cell_type": "code",
   "execution_count": 3,
   "metadata": {},
   "outputs": [
    {
     "name": "stdout",
     "output_type": "stream",
     "text": [
      "[110, 15, 6, 5, 5, 4, 2, 2, 1, 1, 1]\n"
     ]
    }
   ],
   "source": [
    "l=[1,2,4,1,2,5,5,6,1,110,15]\n",
    "selection_sort(l)\n",
    "print(l)"
   ]
  },
  {
   "cell_type": "code",
   "execution_count": 6,
   "metadata": {},
   "outputs": [],
   "source": [
    "def less_than(a,b):\n",
    "    return a<b"
   ]
  },
  {
   "cell_type": "code",
   "execution_count": 7,
   "metadata": {},
   "outputs": [],
   "source": [
    "def selection_sort(l,compare_with):\n",
    "    n=len(l)\n",
    "\n",
    "    for i in range(n):\n",
    "        min_idx=i\n",
    "\n",
    "        for j in range(i+1,n):\n",
    "\n",
    "            if compare_with(l[j],l[min_idx]):\n",
    "                min_idx=j\n",
    "\n",
    "        l[i],l[min_idx]=l[min_idx],l[i]\n",
    "                "
   ]
  },
  {
   "cell_type": "code",
   "execution_count": 8,
   "metadata": {},
   "outputs": [
    {
     "name": "stdout",
     "output_type": "stream",
     "text": [
      "[1, 1, 1, 2, 2, 4, 5, 5, 6, 15, 110]\n"
     ]
    }
   ],
   "source": [
    "l=[1,2,4,1,2,5,5,6,1,110,15]\n",
    "selection_sort(l,less_than)\n",
    "print(l)"
   ]
  },
  {
   "cell_type": "code",
   "execution_count": 9,
   "metadata": {},
   "outputs": [],
   "source": [
    "def greater_than(a,b):\n",
    "    return a>b\n"
   ]
  },
  {
   "cell_type": "code",
   "execution_count": 10,
   "metadata": {},
   "outputs": [
    {
     "name": "stdout",
     "output_type": "stream",
     "text": [
      "[110, 15, 6, 5, 5, 4, 2, 2, 1, 1, 1]\n"
     ]
    }
   ],
   "source": [
    "l=[1,2,4,1,2,5,5,6,1,110,15]\n",
    "selection_sort(l,greater_than)\n",
    "print(l)"
   ]
  }
 ],
 "metadata": {
  "kernelspec": {
   "display_name": "tf",
   "language": "python",
   "name": "python3"
  },
  "language_info": {
   "codemirror_mode": {
    "name": "ipython",
    "version": 3
   },
   "file_extension": ".py",
   "mimetype": "text/x-python",
   "name": "python",
   "nbconvert_exporter": "python",
   "pygments_lexer": "ipython3",
   "version": "3.12.4"
  }
 },
 "nbformat": 4,
 "nbformat_minor": 2
}
