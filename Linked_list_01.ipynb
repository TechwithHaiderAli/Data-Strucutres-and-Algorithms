{
 "cells": [
  {
   "cell_type": "code",
   "execution_count": 45,
   "metadata": {},
   "outputs": [],
   "source": [
    "\n",
    "class Node:\n",
    "    def __init__(self, value):\n",
    "        self.value = value\n",
    "        self.next = None\n",
    "\n",
    "class LinkedList:\n",
    "    def __init__(self):\n",
    "        self.head = None\n",
    "\n",
    "    def push(self, val):\n",
    "        new_node = Node(val)\n",
    "        if self.head is None:\n",
    "            self.head = new_node\n",
    "            return\n",
    "        last = self.head\n",
    "        while last.next is not None:\n",
    "            last = last.next\n",
    "        last.next = new_node\n",
    "\n",
    "    def pop(self):\n",
    "        # Case 1: The list is empty\n",
    "        if self.head is None:\n",
    "            return None\n",
    "        \n",
    "        # Case 2: Only one element\n",
    "        if self.head.next is None:\n",
    "            val = self.head.value\n",
    "            self.head = None\n",
    "            return val\n",
    "        \n",
    "\n",
    "        # Case 3: More than one element\n",
    "        last = self.head\n",
    "        while last.next.next is not None:\n",
    "            last = last.next\n",
    "        \n",
    "        val = last.next.value\n",
    "        last.next = None\n",
    "        return val\n",
    "    \n",
    "    def remove(self, val):\n",
    "        # Case 1: The list is empty\n",
    "        if self.head is None:\n",
    "            return False\n",
    "        \n",
    "        # Case 2: The value is in the head node\n",
    "        if self.head.value == val:\n",
    "            self.head = self.head.next\n",
    "            return True\n",
    "        \n",
    "        # Case 3: The value is in some other node\n",
    "        current = self.head\n",
    "        while current.next is not None:\n",
    "            if current.next.value == val:\n",
    "                current.next = current.next.next\n",
    "                return True\n",
    "            current = current.next\n",
    "        \n",
    "        return (\"Value not found in the list\")  # Value not found in the list\n",
    "    def __str__(self):\n",
    "        ret_str=\"[\"\n",
    "        temp=self.head\n",
    "        while temp is not None:\n",
    "            ret_str=str(temp.val)+','\n",
    "            temp=temp.next\n",
    "\n",
    "        ret_str=ret_str.rstrip(',')\n",
    "        ret_str+= ']' \n",
    "        return (ret_str)\n",
    "          "
   ]
  },
  {
   "cell_type": "code",
   "execution_count": 46,
   "metadata": {},
   "outputs": [
    {
     "name": "stdout",
     "output_type": "stream",
     "text": [
      "Pop: 3\n",
      "Pop: 2\n",
      "Remove 4: True\n",
      "Remove 10: Value not found in the list\n"
     ]
    }
   ],
   "source": [
    "ll = LinkedList()\n",
    "ll.push(1)\n",
    "ll.push(2)\n",
    "ll.push(3)\n",
    "\n",
    "print(\"Pop:\", ll.pop())   # Output: 3\n",
    "print(\"Pop:\", ll.pop())   # Output: 2\n",
    "\n",
    "ll.push(4)\n",
    "ll.push(5)\n",
    "print(\"Remove 4:\", ll.remove(4))  # Output: True\n",
    "print(\"Remove 10:\", ll.remove(10))  # Output: False\n"
   ]
  }
 ],
 "metadata": {
  "kernelspec": {
   "display_name": "Python 3",
   "language": "python",
   "name": "python3"
  },
  "language_info": {
   "codemirror_mode": {
    "name": "ipython",
    "version": 3
   },
   "file_extension": ".py",
   "mimetype": "text/x-python",
   "name": "python",
   "nbconvert_exporter": "python",
   "pygments_lexer": "ipython3",
   "version": "3.12.5"
  }
 },
 "nbformat": 4,
 "nbformat_minor": 2
}
