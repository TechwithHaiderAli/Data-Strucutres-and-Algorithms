{
 "cells": [
  {
   "cell_type": "code",
   "execution_count": 9,
   "metadata": {},
   "outputs": [],
   "source": [
    "def heapify(lst,n,root):\n",
    "    \"\"\" Heapify the root element of lst which has n elements in total \"\"\"\n",
    "\n",
    "    largest=root\n",
    "    l=2*root+1\n",
    "    r=2*root+2\n",
    "\n",
    "    if l<n and lst[l] >lst[largest]:\n",
    "        largest=l\n",
    "    if r<n and lst[r] > lst[largest]:\n",
    "        largest=r \n",
    "\n",
    "    if largest!=root:\n",
    "        lst[root],lst[largest]=lst[largest],lst[root]\n",
    "\n",
    "        heapify(lst,n,largest)\n",
    "               "
   ]
  },
  {
   "cell_type": "code",
   "execution_count": 10,
   "metadata": {},
   "outputs": [],
   "source": [
    "def build_heap(lst):\n",
    "    \"\"\" Construct heap from any list by repeatedly applying heapify from bottom non leaf\"\"\"\n",
    "    n=len(lst)\n",
    "\n",
    "    for i in reversed(range(n//2)):\n",
    "        print(\"heapifying\",lst[i])\n",
    "        heapify(lst,n,i)\n",
    "\n",
    "\n"
   ]
  },
  {
   "cell_type": "code",
   "execution_count": 11,
   "metadata": {},
   "outputs": [],
   "source": [
    "heap=[100,5,3,2,8,15,6,102]\n"
   ]
  },
  {
   "cell_type": "code",
   "execution_count": 12,
   "metadata": {},
   "outputs": [
    {
     "name": "stdout",
     "output_type": "stream",
     "text": [
      "[100, 5, 3, 2, 8, 15, 6, 102]\n",
      "heapifying 2\n",
      "heapifying 3\n",
      "heapifying 5\n",
      "heapifying 100\n",
      "[102, 100, 15, 5, 8, 3, 6, 2]\n"
     ]
    }
   ],
   "source": [
    "print(heap)\n",
    "build_heap(heap)\n",
    "print(heap)"
   ]
  },
  {
   "cell_type": "markdown",
   "metadata": {},
   "source": [
    "###  Heap Sort"
   ]
  },
  {
   "cell_type": "code",
   "execution_count": 13,
   "metadata": {},
   "outputs": [],
   "source": [
    "def heap_sort(lst):\n",
    "    \"\"\" Perform heap sort by building a Max heap from the list then repeatedly retrieve\"\"\"\n",
    "    n=len(lst)\n",
    "\n",
    "    build_heap(heap)\n",
    "\n",
    "\n",
    "    for i in reversed(range(n)):\n",
    "        #swap\n",
    "        lst[i],lst[0]=lst[0],lst[i]\n",
    "        #heapify root element again but only until the ith element\n",
    "        \n",
    "        heapify(lst,i,0)"
   ]
  },
  {
   "cell_type": "code",
   "execution_count": 14,
   "metadata": {},
   "outputs": [
    {
     "name": "stdout",
     "output_type": "stream",
     "text": [
      "[100, 5, 3, 2, 8, 15, 6, 102]\n",
      "heapifying 2\n",
      "heapifying 3\n",
      "heapifying 5\n",
      "heapifying 100\n",
      "[2, 3, 5, 6, 8, 15, 100, 102]\n"
     ]
    }
   ],
   "source": [
    "heap=[100,5,3,2,8,15,6,102]\n",
    "print(heap)\n",
    "heap_sort(heap)\n",
    "print(heap)"
   ]
  },
  {
   "cell_type": "code",
   "execution_count": null,
   "metadata": {},
   "outputs": [],
   "source": []
  }
 ],
 "metadata": {
  "kernelspec": {
   "display_name": "tf",
   "language": "python",
   "name": "python3"
  },
  "language_info": {
   "codemirror_mode": {
    "name": "ipython",
    "version": 3
   },
   "file_extension": ".py",
   "mimetype": "text/x-python",
   "name": "python",
   "nbconvert_exporter": "python",
   "pygments_lexer": "ipython3",
   "version": "3.12.4"
  }
 },
 "nbformat": 4,
 "nbformat_minor": 2
}
